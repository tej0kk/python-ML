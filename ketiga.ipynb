{
 "cells": [
  {
   "cell_type": "markdown",
   "metadata": {},
   "source": [
    "<h3>Operator Comparison</h3>\n",
    "a dengan b\n",
    "data a dan b tadi bisa angka, kata, boolean <br>\n",
    "operator pembanding <br>\n",
    "* == (operator sama dengan) <br>\n",
    "* != (operator tidak sama dengan) <br>\n",
    "* (> atau >=) <br>\n",
    "* (< atau <=) <br>\n",
    "\n",
    "gerbang logika <br>\n",
    "(==) AND"
   ]
  },
  {
   "cell_type": "code",
   "execution_count": null,
   "metadata": {
    "scrolled": true
   },
   "outputs": [],
   "source": [
    "kata=\"makan\" != \"minum\"\n",
    "print (kata)"
   ]
  },
  {
   "cell_type": "code",
   "execution_count": null,
   "metadata": {
    "scrolled": true
   },
   "outputs": [],
   "source": [
    "angka = 1 == 2\n",
    "print(angka)"
   ]
  },
  {
   "cell_type": "code",
   "execution_count": null,
   "metadata": {},
   "outputs": [],
   "source": [
    "bol = kata == angka\n",
    "print(bol)"
   ]
  },
  {
   "cell_type": "markdown",
   "metadata": {},
   "source": [
    "<h3>Boolean Comparison</h3>\n",
    "* and <br>\n",
    "* or <br>\n",
    "* not <br>\n",
    "\n",
    "membandingkan a dan b, syarat a dan b itu boolean(false atau true) <br>\n",
    "\n"
   ]
  },
  {
   "cell_type": "code",
   "execution_count": null,
   "metadata": {},
   "outputs": [],
   "source": [
    "a = (1232 > 1342)\n",
    "b = (1790 == 1245)\n",
    "a or b"
   ]
  },
  {
   "cell_type": "code",
   "execution_count": null,
   "metadata": {
    "scrolled": true
   },
   "outputs": [],
   "source": [
    "a =(\"pintar\" != \"cerdas\")\n",
    "b =(\"bodoh\" == \"malas\")\n",
    "print (a)\n",
    "print (b)"
   ]
  },
  {
   "cell_type": "code",
   "execution_count": null,
   "metadata": {},
   "outputs": [],
   "source": [
    "(\"selin\" >= \"sabar\") PR Aku"
   ]
  },
  {
   "cell_type": "markdown",
   "metadata": {},
   "source": [
    "<h3>if-else statment</h3>"
   ]
  },
  {
   "cell_type": "code",
   "execution_count": null,
   "metadata": {},
   "outputs": [],
   "source": [
    "# & adalah dan\n",
    "\n",
    "bus = 'damri'\n",
    "harga = 10000\n",
    "\n",
    "if(bus=='damri') and (harga >= 7000):\n",
    "    print('mahal')\n",
    "    \n",
    "elif(bus=='damri') and (harga > 3000 & harga < 7000):\n",
    "    print('sedang')\n",
    "    \n",
    "elif(bus=='damri') and (harga <= 3000):\n",
    "    print('murah')"
   ]
  },
  {
   "cell_type": "markdown",
   "metadata": {},
   "source": [
    "<h3>function</h3>"
   ]
  },
  {
   "cell_type": "code",
   "execution_count": null,
   "metadata": {},
   "outputs": [],
   "source": [
    "def cekharga (harga):\n",
    "    if(bus=='damri') and (harga >= 7000):\n",
    "        hasil = 'mahal'\n",
    "\n",
    "    elif(bus=='damri') and (harga > 3000 & harga < 7000):\n",
    "        hasil = 'sedang'\n",
    "\n",
    "    elif(bus=='damri') and (harga <= 3000):\n",
    "        hasil = 'murah'\n",
    "    return hasil"
   ]
  },
  {
   "cell_type": "code",
   "execution_count": null,
   "metadata": {},
   "outputs": [],
   "source": [
    "cekharga(1000)"
   ]
  },
  {
   "cell_type": "code",
   "execution_count": null,
   "metadata": {},
   "outputs": [],
   "source": [
    "cekharga(10000000)"
   ]
  },
  {
   "cell_type": "code",
   "execution_count": null,
   "metadata": {},
   "outputs": [],
   "source": [
    "cekharga(4000)"
   ]
  },
  {
   "cell_type": "markdown",
   "metadata": {},
   "source": [
    "<h3>Looping</h3>"
   ]
  },
  {
   "cell_type": "code",
   "execution_count": 7,
   "metadata": {
    "scrolled": true
   },
   "outputs": [
    {
     "name": "stdout",
     "output_type": "stream",
     "text": [
      "S9\n",
      "Nokia5\n",
      "iPhone10\n",
      "xiaomi\n",
      "sony\n",
      "mitsubisi\n"
     ]
    }
   ],
   "source": [
    "#pengulangan for\n",
    "merk = [\"S9\", \"Nokia5\", \"iPhone10\", \"xiaomi\", \"sony\", \"mitsubisi\"]\n",
    "for judul in merk: \n",
    "    print(judul)"
   ]
  },
  {
   "cell_type": "code",
   "execution_count": 1,
   "metadata": {},
   "outputs": [
    {
     "name": "stdout",
     "output_type": "stream",
     "text": [
      "98\n",
      "96\n",
      "94\n",
      "92\n",
      "90\n",
      "88\n",
      "86\n",
      "84\n",
      "82\n",
      "80\n",
      "78\n",
      "76\n",
      "74\n",
      "72\n",
      "70\n",
      "68\n",
      "66\n",
      "64\n",
      "62\n",
      "60\n",
      "58\n",
      "56\n",
      "54\n",
      "52\n",
      "50\n",
      "48\n",
      "46\n",
      "44\n",
      "42\n",
      "40\n",
      "38\n",
      "36\n",
      "34\n",
      "32\n",
      "30\n",
      "28\n",
      "26\n",
      "24\n",
      "22\n",
      "20\n",
      "18\n",
      "16\n",
      "14\n",
      "12\n",
      "10\n",
      "8\n",
      "6\n",
      "4\n",
      "2\n",
      "0\n"
     ]
    }
   ],
   "source": [
    "#pengulangan while\n",
    "x=100\n",
    "while x!=0:\n",
    "    x-=2\n",
    "    print(x)\n"
   ]
  },
  {
   "cell_type": "code",
   "execution_count": 10,
   "metadata": {},
   "outputs": [
    {
     "name": "stdout",
     "output_type": "stream",
     "text": [
      "0\n",
      "4\n",
      "52\n",
      "24\n",
      "144\n",
      "455\n"
     ]
    }
   ],
   "source": [
    "#list\n",
    "deret = [1, 4, 26, 8, 36, 91]\n",
    "#hasil = 0 4 52 24 144 455  \n",
    "for index,tes in enumerate (deret):\n",
    "    print (index*tes)"
   ]
  },
  {
   "cell_type": "code",
   "execution_count": null,
   "metadata": {},
   "outputs": [],
   "source": []
  }
 ],
 "metadata": {
  "kernelspec": {
   "display_name": "Python 3",
   "language": "python",
   "name": "python3"
  },
  "language_info": {
   "codemirror_mode": {
    "name": "ipython",
    "version": 3
   },
   "file_extension": ".py",
   "mimetype": "text/x-python",
   "name": "python",
   "nbconvert_exporter": "python",
   "pygments_lexer": "ipython3",
   "version": "3.8.3"
  }
 },
 "nbformat": 4,
 "nbformat_minor": 4
}
